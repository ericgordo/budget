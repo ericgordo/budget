{
 "cells": [
  {
   "cell_type": "code",
   "execution_count": 53,
   "metadata": {},
   "outputs": [],
   "source": [
    "import numpy as np\n",
    "import pandas as pd\n",
    "import os \n",
    "import glob\n",
    "import gspread\n",
    "from oauth2client.service_account import ServiceAccountCredentials\n",
    "import pprint\n",
    "import pygsheets"
   ]
  },
  {
   "cell_type": "code",
   "execution_count": 54,
   "metadata": {},
   "outputs": [],
   "source": [
    "order = ['Source','Transaction Date', 'Description', 'Category',  'Amount',\n",
    "        'Month','Type', 'Exclude', 'Only Exclusions', 'Without Exclusions']\n",
    "def file_names(file):\n",
    "    if file.find('Checking') == 0:\n",
    "        return 'Checking'\n",
    "    if file.find('Chase') == 0:\n",
    "        return 'Chase'\n",
    "    if file.find('Market') == 0:\n",
    "        return 'Savings'\n",
    "    if file.find('From') == 0:\n",
    "        return 'Citi'\n",
    "    if file.find('CreditCard')==0:\n",
    "        return 'Wells Credit Card'\n",
    "    else:\n",
    "        return 'N/A'    \n",
    "\n",
    "def checking_exclusions(description):\n",
    "    if (description.find('CITI CARD')==0) \\\n",
    "        or (description.find('Acorns')==0) \\\n",
    "        or (description.find('CHASE CREDIT')==0) \\\n",
    "        or (description.find('ONLINE PAYMENT')==0):\n",
    "        return 'x'\n",
    "    elif (description.find('ONLINE TRANSFER')==0) \\\n",
    "        or (description.find('RECURRING TRANSFER')==0):\n",
    "        return 'N'\n",
    "    else:\n",
    "        return ''\n",
    "\n",
    "    \n",
    "def compile_files( file , file_name ):\n",
    "    \n",
    "    if file_name == 'Chase':\n",
    "        cur_data = pd.read_csv(file)\n",
    "        cur_data.drop( columns = ['Post Date'],inplace= True )\n",
    "        cur_data['Exclude'] = cur_data['Type'].replace({'Payment': 'x', 'Sale': ''})\n",
    "        cur_data['Type'] = cur_data['Type'].replace({'Payment':'Income','Sale':'Spent'})\n",
    "   \n",
    "    if (file_name == 'Checking') or (file_name == 'Savings') or (file_name == 'Wells Credit Card'):\n",
    "        cur_data = pd.read_csv(file, header =None)\n",
    "        cur_data.drop(columns= [2,3], inplace=True)\n",
    "        cur_data.columns = ['Transaction Date','Amount','Description']\n",
    "        cur_data['Type'] = cur_data.apply(lambda x: 'Income' if x['Amount'] > 0 else 'Spent', axis =1 )\n",
    "        \n",
    "        cur_data['Exclude'] = cur_data['Description'].apply( lambda x: checking_exclusions(x) )\n",
    "        \n",
    "        #Need to Do some Pythong String Searching \n",
    "        cur_data['Category']  = ''\n",
    "    \n",
    "    if file_name == 'Citi':\n",
    "        cur_data = pd.read_csv(file)\n",
    "        cur_data.rename(columns = {'Date':'Transaction Date'}, inplace =True)\n",
    "        cur_data['Amount'] = cur_data.apply( lambda x: -1*np.nansum( [x['Debit'], x['Credit'] ])  ,axis = 1 )\n",
    "        cur_data['Type'] = cur_data.apply(lambda x: 'Income' if x['Amount'] > 0 else 'Spent', axis =1 )\n",
    "        cur_data['Exclude'] = cur_data['Type'].replace({'Income': 'x', 'Spent': ''})\n",
    "        cur_data['Category']  = ''\n",
    "        cur_data.drop(columns= ['Debit','Credit'], inplace = True)\n",
    "        \n",
    "    cur_data['Month'] =  pd.DatetimeIndex(cur_data['Transaction Date']).month\n",
    "    cur_data['Source'] = file_name\n",
    "    cur_data['Only Exclusions'] =  cur_data.apply(lambda x: float(x['Amount']) if (x['Exclude']== 'x') or (x['Exclude']== 'N')  else 0, axis =1)\n",
    "    cur_data['Without Exclusions'] =  cur_data.apply(lambda x: float(x['Amount']) if (x['Exclude']!= 'x') and (x['Exclude']!= 'N') else 0, axis =1)     \n",
    "      \n",
    "    return cur_data[order]"
   ]
  },
  {
   "cell_type": "code",
   "execution_count": 55,
   "metadata": {},
   "outputs": [
    {
     "name": "stdout",
     "output_type": "stream",
     "text": [
      "Input date Cutoff (mm/dd/yyyy): 07/01/2019\n"
     ]
    }
   ],
   "source": [
    "path = \"/Users/egordon/Documents/Coding/budget/data/\"\n",
    "os.chdir(path)\n",
    "files = glob.glob(\"*.csv\") + glob.glob(\"*.CSV\")\n",
    "date_cutoff = input(\"Input date Cutoff (mm/dd/yyyy): \")"
   ]
  },
  {
   "cell_type": "code",
   "execution_count": 56,
   "metadata": {},
   "outputs": [
    {
     "name": "stdout",
     "output_type": "stream",
     "text": [
      "Savings\n",
      "Wells Credit Card\n",
      "Checking\n",
      "Citi\n",
      "Chase\n",
      "Min Date:  07/01/2019 Transaction Records:  663\n"
     ]
    },
    {
     "data": {
      "text/html": [
       "<div>\n",
       "<style scoped>\n",
       "    .dataframe tbody tr th:only-of-type {\n",
       "        vertical-align: middle;\n",
       "    }\n",
       "\n",
       "    .dataframe tbody tr th {\n",
       "        vertical-align: top;\n",
       "    }\n",
       "\n",
       "    .dataframe thead th {\n",
       "        text-align: right;\n",
       "    }\n",
       "</style>\n",
       "<table border=\"1\" class=\"dataframe\">\n",
       "  <thead>\n",
       "    <tr style=\"text-align: right;\">\n",
       "      <th></th>\n",
       "      <th>Source</th>\n",
       "      <th>Transaction Date</th>\n",
       "      <th>Description</th>\n",
       "      <th>Category</th>\n",
       "      <th>Amount</th>\n",
       "      <th>Month</th>\n",
       "      <th>Type</th>\n",
       "      <th>Exclude</th>\n",
       "      <th>Only Exclusions</th>\n",
       "      <th>Without Exclusions</th>\n",
       "    </tr>\n",
       "  </thead>\n",
       "  <tbody>\n",
       "    <tr>\n",
       "      <th>0</th>\n",
       "      <td>Checking</td>\n",
       "      <td>11/29/2019</td>\n",
       "      <td>Acorns Invest Transfer 112919 TL1LMD Eric Gordon</td>\n",
       "      <td></td>\n",
       "      <td>-6.53</td>\n",
       "      <td>11</td>\n",
       "      <td>Spent</td>\n",
       "      <td>x</td>\n",
       "      <td>-6.53</td>\n",
       "      <td>0.00</td>\n",
       "    </tr>\n",
       "    <tr>\n",
       "      <th>0</th>\n",
       "      <td>Savings</td>\n",
       "      <td>11/29/2019</td>\n",
       "      <td>INTEREST PAYMENT</td>\n",
       "      <td></td>\n",
       "      <td>0.52</td>\n",
       "      <td>11</td>\n",
       "      <td>Income</td>\n",
       "      <td></td>\n",
       "      <td>0.00</td>\n",
       "      <td>0.52</td>\n",
       "    </tr>\n",
       "    <tr>\n",
       "      <th>3</th>\n",
       "      <td>Chase</td>\n",
       "      <td>11/30/2019</td>\n",
       "      <td>PAYPAL *SNELL GOLF</td>\n",
       "      <td>Shopping</td>\n",
       "      <td>-51.98</td>\n",
       "      <td>11</td>\n",
       "      <td>Spent</td>\n",
       "      <td></td>\n",
       "      <td>0.00</td>\n",
       "      <td>-51.98</td>\n",
       "    </tr>\n",
       "    <tr>\n",
       "      <th>2</th>\n",
       "      <td>Chase</td>\n",
       "      <td>11/30/2019</td>\n",
       "      <td>PAYPAL *FOOTJOYCOM</td>\n",
       "      <td>Shopping</td>\n",
       "      <td>-133.46</td>\n",
       "      <td>11</td>\n",
       "      <td>Spent</td>\n",
       "      <td></td>\n",
       "      <td>0.00</td>\n",
       "      <td>-133.46</td>\n",
       "    </tr>\n",
       "    <tr>\n",
       "      <th>1</th>\n",
       "      <td>Chase</td>\n",
       "      <td>11/30/2019</td>\n",
       "      <td>WALGREENS #13667</td>\n",
       "      <td>Health &amp; Wellness</td>\n",
       "      <td>-48.57</td>\n",
       "      <td>11</td>\n",
       "      <td>Spent</td>\n",
       "      <td></td>\n",
       "      <td>0.00</td>\n",
       "      <td>-48.57</td>\n",
       "    </tr>\n",
       "  </tbody>\n",
       "</table>\n",
       "</div>"
      ],
      "text/plain": [
       "     Source Transaction Date  \\\n",
       "0  Checking       11/29/2019   \n",
       "0   Savings       11/29/2019   \n",
       "3     Chase       11/30/2019   \n",
       "2     Chase       11/30/2019   \n",
       "1     Chase       11/30/2019   \n",
       "\n",
       "                                        Description           Category  \\\n",
       "0  Acorns Invest Transfer 112919 TL1LMD Eric Gordon                      \n",
       "0                                  INTEREST PAYMENT                      \n",
       "3                                PAYPAL *SNELL GOLF           Shopping   \n",
       "2                                PAYPAL *FOOTJOYCOM           Shopping   \n",
       "1                                  WALGREENS #13667  Health & Wellness   \n",
       "\n",
       "   Amount  Month    Type Exclude  Only Exclusions  Without Exclusions  \n",
       "0   -6.53     11   Spent       x            -6.53                0.00  \n",
       "0    0.52     11  Income                     0.00                0.52  \n",
       "3  -51.98     11   Spent                     0.00              -51.98  \n",
       "2 -133.46     11   Spent                     0.00             -133.46  \n",
       "1  -48.57     11   Spent                     0.00              -48.57  "
      ]
     },
     "execution_count": 56,
     "metadata": {},
     "output_type": "execute_result"
    }
   ],
   "source": [
    "# Chase [3:4]\n",
    "all_data = []\n",
    "for file in files:  #files[1:4]: \n",
    "    print(file_names(file))\n",
    "    all_data.append(compile_files( file, file_names(file)))\n",
    "    \n",
    "compiled_data = pd.concat(all_data)\n",
    "\n",
    "#Weirdly Wells Fargo was Downloading Earlier Data, so cut it off here\n",
    "compiled_data = compiled_data[compiled_data['Transaction Date'] >= date_cutoff]\n",
    "\n",
    "#Sort for ease of Checking on Google Sheet\n",
    "compiled_data.sort_values('Transaction Date', inplace =True)\n",
    "\n",
    "#compiled_data = compiled_data\n",
    "print(\"Min Date: \",min(compiled_data['Transaction Date']), \"Transaction Records: \", len(compiled_data))\n",
    "\n",
    "compiled_data.tail()"
   ]
  },
  {
   "cell_type": "code",
   "execution_count": 57,
   "metadata": {},
   "outputs": [
    {
     "name": "stdout",
     "output_type": "stream",
     "text": [
      "Will write new data starting on the 707th row\n"
     ]
    }
   ],
   "source": [
    "os.chdir(\"/Users/egordon/Documents/Coding/budget/\")\n",
    "gc = pygsheets.authorize(service_file = 'Budget Wrangling-e5de1c7718f7.json')\n",
    "\n",
    "wkbook = gc.open('Budget')\n",
    "\n",
    "#select the \"Data Sheet\"\n",
    "sheet = wkbook[1]\n",
    "\n",
    "#Get the max Row number with the data to date. \n",
    "max_indx = len(sheet.get_col(1, include_tailing_empty = False))\n",
    "\n",
    "#update the first sheet with df, starting at cell B2. \n",
    "print(\"Will write new data starting on the\", str(max_indx + 1) +\"th\" , \"row\")"
   ]
  },
  {
   "cell_type": "code",
   "execution_count": 58,
   "metadata": {
    "scrolled": true
   },
   "outputs": [
    {
     "name": "stdout",
     "output_type": "stream",
     "text": [
      "Success Writing Data!\n"
     ]
    }
   ],
   "source": [
    "try:\n",
    "    sheet.set_dataframe(compiled_data,( max_indx + 1 ,1 ), copy_head =False)\n",
    "    print(\"Success Writing Data!\")\n",
    "except:\n",
    "    print(\"Error Writing the Data!: \\n\")\n",
    "    sheet.set_dataframe(compiled_data,( max_indx + 1 ,1 ), copy_head =False)"
   ]
  },
  {
   "cell_type": "code",
   "execution_count": null,
   "metadata": {},
   "outputs": [],
   "source": []
  },
  {
   "cell_type": "code",
   "execution_count": null,
   "metadata": {},
   "outputs": [],
   "source": []
  },
  {
   "cell_type": "code",
   "execution_count": null,
   "metadata": {},
   "outputs": [],
   "source": []
  }
 ],
 "metadata": {
  "kernelspec": {
   "display_name": "Python 3",
   "language": "python",
   "name": "python3"
  },
  "language_info": {
   "codemirror_mode": {
    "name": "ipython",
    "version": 3
   },
   "file_extension": ".py",
   "mimetype": "text/x-python",
   "name": "python",
   "nbconvert_exporter": "python",
   "pygments_lexer": "ipython3",
   "version": "3.7.5"
  }
 },
 "nbformat": 4,
 "nbformat_minor": 2
}
