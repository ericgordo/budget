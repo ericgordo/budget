{
 "cells": [
  {
   "cell_type": "code",
   "execution_count": 350,
   "metadata": {},
   "outputs": [],
   "source": [
    "import numpy as np\n",
    "import pandas as pd\n",
    "import os \n",
    "import glob\n",
    "import gspread\n",
    "from oauth2client.service_account import ServiceAccountCredentials\n",
    "import pprint\n",
    "import pygsheets"
   ]
  },
  {
   "cell_type": "code",
   "execution_count": 320,
   "metadata": {},
   "outputs": [],
   "source": [
    "path = \"/Users/egordon/Documents/Coding/budget/data/\"\n",
    "os.chdir(path)\n",
    "files = glob.glob(\"*.csv\") + glob.glob(\"*.CSV\")"
   ]
  },
  {
   "cell_type": "code",
   "execution_count": 311,
   "metadata": {},
   "outputs": [],
   "source": [
    "order = ['Source','Transaction Date', 'Description', 'Category',  'Amount',\n",
    "        'Month','Type', 'Exclude', 'Only Exclusions', 'Without Exclusions']\n",
    "def file_names(file):\n",
    "    if file.find('Checking') == 0:\n",
    "        return 'Checking'\n",
    "    if file.find('Chase') == 0:\n",
    "        return 'Chase'\n",
    "    if file.find('Market') == 0:\n",
    "        return 'Savings'\n",
    "    if file.find('From') == 0:\n",
    "        return 'Citi'\n",
    "    if file.find('CreditCard')==0:\n",
    "        return 'Wells Credit Card'\n",
    "    else:\n",
    "        return 'N/A'    \n",
    "\n",
    "def checking_exclusions(description):\n",
    "    if (description.find('CITI CARD')==0) \\\n",
    "        or (description.find('Acorns')==0) \\\n",
    "        or (description.find('CHASE CREDIT')==0) \\\n",
    "        or (description.find('ONLINE PAYMENT')==0):\n",
    "        return 'x'\n",
    "    elif (description.find('ONLINE TRANSFER')==0) \\\n",
    "        or (description.find('RECURRING TRANSFER')==0):\n",
    "        return 'N'\n",
    "    else:\n",
    "        return ''\n",
    "\n",
    "    \n",
    "def compile_files( file , file_name ):\n",
    "    \n",
    "    if file_name == 'Chase':\n",
    "        cur_data = pd.read_csv(file)\n",
    "        cur_data.drop( columns = ['Post Date'],inplace= True )\n",
    "        cur_data['Exclude'] = cur_data['Type'].replace({'Payment': 'x', 'Sale': ''})\n",
    "        cur_data['Type'] = cur_data['Type'].replace({'Payment':'Income','Sale':'Spent'})\n",
    "   \n",
    "    if (file_name == 'Checking') or (file_name == 'Savings') or (file_name == 'Wells Credit Card'):\n",
    "        cur_data = pd.read_csv(file, header =None)\n",
    "        cur_data.drop(columns= [2,3], inplace=True)\n",
    "        cur_data.columns = ['Transaction Date','Amount','Description']\n",
    "        cur_data['Type'] = cur_data.apply(lambda x: 'Income' if x['Amount'] > 0 else 'Spent', axis =1 )\n",
    "        \n",
    "        cur_data['Exclude'] = cur_data['Description'].apply( lambda x: checking_exclusions(x) )\n",
    "        \n",
    "        #Need to Do some Pythong String Searching \n",
    "        cur_data['Category']  = ''\n",
    "    \n",
    "    if file_name == 'Citi':\n",
    "        cur_data = pd.read_csv(file)\n",
    "        cur_data.rename(columns = {'Date':'Transaction Date'}, inplace =True)\n",
    "        cur_data['Amount'] = cur_data.apply( lambda x: -1*np.nansum( [x['Debit'], x['Credit'] ])  ,axis = 1 )\n",
    "        cur_data['Type'] = cur_data.apply(lambda x: 'Income' if x['Amount'] > 0 else 'Spent', axis =1 )\n",
    "        cur_data['Exclude'] = cur_data['Type'].replace({'Income': 'x', 'Spent': ''})\n",
    "        cur_data['Category']  = ''\n",
    "        cur_data.drop(columns= ['Debit','Credit'], inplace = True)\n",
    "        \n",
    "    cur_data['Month'] =  pd.DatetimeIndex(cur_data['Transaction Date']).month\n",
    "    cur_data['Source'] = file_name\n",
    "    cur_data['Only Exclusions'] =  cur_data.apply(lambda x: float(x['Amount']) if x['Exclude']== 'x' else 0, axis =1)\n",
    "    cur_data['Without Exclusions'] =  cur_data.apply(lambda x: float(x['Amount']) if x['Exclude'] != 'x' else 0, axis =1)     \n",
    "      \n",
    "    return cur_data[order]"
   ]
  },
  {
   "cell_type": "code",
   "execution_count": 315,
   "metadata": {},
   "outputs": [
    {
     "name": "stdout",
     "output_type": "stream",
     "text": [
      "Wells Credit Card\n",
      "Checking\n",
      "Savings\n",
      "Chase\n",
      "Citi\n"
     ]
    }
   ],
   "source": [
    "# Chase [3:4]\n",
    "all_data = []\n",
    "for file in files:  #files[1:4]: \n",
    "    print(file_names(file))\n",
    "    all_data.append(compile_files( file, file_names(file)))\n",
    "    \n",
    "compiled_data = pd.concat(all_data)"
   ]
  },
  {
   "cell_type": "code",
   "execution_count": 382,
   "metadata": {},
   "outputs": [
    {
     "data": {
      "text/plain": [
       "1340"
      ]
     },
     "execution_count": 382,
     "metadata": {},
     "output_type": "execute_result"
    }
   ],
   "source": [
    "os.chdir(\"/Users/egordon/Documents/Coding/budget/\")\n",
    "gc = pygsheets.authorize(service_file = 'Budget Wrangling-e5de1c7718f7.json')\n",
    "\n",
    "# Create empty dataframe\n",
    "\n",
    "wkbook = gc.open('Budget')\n",
    "#select the first sheet \n",
    "sheet = wkbook[1]\n",
    "\n",
    "#Get the max Row number with the data to date. \n",
    "max_indx = len(sheet.get_col(1, include_tailing_empty = False))\n",
    "\n",
    "#update the first sheet with df, starting at cell B2. \n",
    "max_indx"
   ]
  },
  {
   "cell_type": "code",
   "execution_count": 375,
   "metadata": {
    "scrolled": true
   },
   "outputs": [
    {
     "data": {
      "text/plain": [
       "1341"
      ]
     },
     "execution_count": 375,
     "metadata": {},
     "output_type": "execute_result"
    }
   ],
   "source": [
    "df = compiled_data[:2]\n",
    "sheet.set_dataframe(df,( max_indx + 1 ,1 ), copy_head =False)"
   ]
  },
  {
   "cell_type": "code",
   "execution_count": null,
   "metadata": {},
   "outputs": [],
   "source": []
  },
  {
   "cell_type": "code",
   "execution_count": null,
   "metadata": {},
   "outputs": [],
   "source": []
  },
  {
   "cell_type": "code",
   "execution_count": null,
   "metadata": {},
   "outputs": [],
   "source": []
  },
  {
   "cell_type": "code",
   "execution_count": 99,
   "metadata": {},
   "outputs": [
    {
     "ename": "IndentationError",
     "evalue": "unexpected indent (<ipython-input-99-25bc55409636>, line 2)",
     "output_type": "error",
     "traceback": [
      "\u001b[0;36m  File \u001b[0;32m\"<ipython-input-99-25bc55409636>\"\u001b[0;36m, line \u001b[0;32m2\u001b[0m\n\u001b[0;31m    if file_name not in valid:\u001b[0m\n\u001b[0m    ^\u001b[0m\n\u001b[0;31mIndentationError\u001b[0m\u001b[0;31m:\u001b[0m unexpected indent\n"
     ]
    }
   ],
   "source": [
    "\n",
    "\n",
    "\n",
    "\n",
    "\n",
    "valid = {'Chase','Checking'}\n",
    "    if file_name not in valid:\n",
    "        raise ValueError(\"results: status must be one of %r.\" % valid)"
   ]
  },
  {
   "cell_type": "code",
   "execution_count": null,
   "metadata": {},
   "outputs": [],
   "source": []
  }
 ],
 "metadata": {
  "kernelspec": {
   "display_name": "Python 3",
   "language": "python",
   "name": "python3"
  },
  "language_info": {
   "codemirror_mode": {
    "name": "ipython",
    "version": 3
   },
   "file_extension": ".py",
   "mimetype": "text/x-python",
   "name": "python",
   "nbconvert_exporter": "python",
   "pygments_lexer": "ipython3",
   "version": "3.7.5"
  }
 },
 "nbformat": 4,
 "nbformat_minor": 2
}
